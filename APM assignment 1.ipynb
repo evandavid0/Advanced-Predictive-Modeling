{
 "cells": [
  {
   "cell_type": "markdown",
   "metadata": {},
   "source": [
    "### # <p style=\"text-align: center;\">MIS 382N: ADVANCED PREDICTIVE MODELING - MSBA</p>\n",
    "# <p style=\"text-align: center;\">Assignment 1</p>\n",
    "## <p style=\"text-align: center;\">Total points: 80</p>\n",
    "## <p style=\"text-align: center;\">Due: Tuesday, September 18 submitted via Canvas by 11:59 pm</p>\n",
    "\n",
    "Your homework should be written in a **Jupyter notebook**. You may work in groups of two if you wish. Only one student per team needs to submit the assignment on Canvas.  But be sure to include name and UTEID for both students.  Homework groups will be created and managed through Canvas, so please do not arbitrarily change your homework group. If you do change, let the TA know.  \n",
    "\n",
    "Also, please make sure your code runs and the graphics (and anything else) are displayed in your notebook before submitting. (%matplotlib inline)"
   ]
  },
  {
   "cell_type": "markdown",
   "metadata": {},
   "source": [
    "# Group members:\n",
    "\n",
    "## Evan David, ead955\n",
    "\n",
    "\n",
    "## Anuraag Mohile, arm5695"
   ]
  },
  {
   "cell_type": "markdown",
   "metadata": {},
   "source": [
    "# Question 1: Challenges in Data Science (10 pts)\n",
    "\n",
    "Refer to the Domino guide under Modules --> Additional Resources\n",
    "\n",
    "Section 2 describes 8 Challenges. You may have personally encountered or heard of somebody else who encountered some of these challenge. If so,  please write 1-2 paragraphs on what situation was encountered and how it mapped into one the mentioned challenges. If not, think of a hypothetical case and do the same exercise. "
   ]
  },
  {
   "cell_type": "markdown",
   "metadata": {},
   "source": [
    "One challenge that was personally encountered was the challenge of solving the wrong problem. This was encountered during a group project for school, in which the group was working on a dataset of homicides in the US, and trying to determine what could be learned from this data. The main goal of the project was to see if homicides could be predicted in the future, that way government resources could potentially be allocated accordingly in order to prevent these homicides. The dataset included data on the victims of the homicides, with demographics on the victims, location where the homicide occurred, when it occurred, as well as whether or not the case had been resolved or not. There was no information on the criminals in the dataset. The problem became that as the group explored the data, we realized that the questions we were asking had nothing to do with prediction at all, but simply exploratory analysis. This was after having spent a week or so on the project, so we decided to keep going with the analysis that we had. In the end we were able to get some good insights out of the analysis, and we even did some time series analysis of the future homicides for our predictions. However, it was clear that the dataset was meant to study the \"response\" variable of whether a case had been solved or not, and we did not do too much with this variable. If we were to go back and do it again, I think we would have spent more time on predicting the case resolutions based on the features of the data, as it would be a more interesting thing to find."
   ]
  },
  {
   "cell_type": "markdown",
   "metadata": {},
   "source": [
    "# Question 2: Maximum likelihood estimate (10 pts)\n",
    "\n",
    "Prove the statement on slide 3 of notes on MLR:\n",
    "\"Then minimizing Mean Squared Error (MSE) on the training data (which you can do using OLS) yields the Maximum Likelihood Estimate (MLE) solution of the assumed generative model.\""
   ]
  },
  {
   "cell_type": "markdown",
   "metadata": {},
   "source": [
    "Consider,\n",
    "\n",
    "$$Y=β_0 + β_1X + ε$$\n",
    "\n",
    "Our likelihood function is given by,\n",
    "\n",
    "$$L(Y_i,β_0,β_1,σ^2) = \\frac{1}{(2π^{n/2}σ^n)}exp\\bigg(\\frac{-1}{(2σ^2)}\\Big(\\sum_{i=1}^n({Y_i−β_1X_i−β_0})^2\\Big)\\bigg)$$\n",
    "\n",
    "For any fixed $σ > 0$, maximizing $L$ is equivalent to minimizing\n",
    "\n",
    "$$E=\\sum_{i=1}^n({Y_i−β_1X_i−β_0})^2$$"
   ]
  },
  {
   "cell_type": "markdown",
   "metadata": {},
   "source": [
    "Here we show the mathematical proof:"
   ]
  },
  {
   "cell_type": "markdown",
   "metadata": {},
   "source": [
    "<img src=\"image2 (2).jpeg\">\n",
    "<img src=\"image1 (3).jpeg\">"
   ]
  },
  {
   "cell_type": "markdown",
   "metadata": {},
   "source": [
    "# Question 3: Collinearity Issues (5 pts)\n",
    "\n",
    "What is the “collinearity” issue encountered in MLR? Why is this a problem when you try to use MLR?\n",
    "Suggest one way of addressing this problem."
   ]
  },
  {
   "cell_type": "markdown",
   "metadata": {},
   "source": [
    "Collinearity is a situation when several predictors are so highly correlated that we can't decide which one is important in explaining the association among the predictors and response. In MLR, it can increase the standard error significantly.\n",
    "\n",
    "One way of addressing the problem is to leave for analysis only the predictors that are not highly correlated among each other using the knowledge of the process."
   ]
  },
  {
   "cell_type": "markdown",
   "metadata": {},
   "source": [
    "# Question 4: Multiple Linear Regression in Python (20 pts)\n",
    "\n",
    "Use the following code to import the allstate-claims-severity dataset and linear models in python. The dataset is taken from https://www.kaggle.com/c/allstate-claims-severity I have removed the categorical variables to make it easier to run the models. Because of this, MAE (Mean absolute error) will be on higher end compared to other Kaggle entries. Please donwload the dataset \"reduced_train.csv\" and use it.\n",
    "\n"
   ]
  },
  {
   "cell_type": "code",
   "execution_count": 1,
   "metadata": {},
   "outputs": [],
   "source": [
    "from sklearn import linear_model\n",
    "from sklearn.metrics import mean_squared_error, mean_absolute_error\n",
    "import numpy as np\n",
    "import pandas as pd\n",
    "\n",
    "train_df = pd.read_csv(\"reduced_train.csv\")\n",
    "\n",
    "X = train_df.drop(['id','loss'],axis=1)\n",
    "Y = train_df['loss']"
   ]
  },
  {
   "cell_type": "markdown",
   "metadata": {},
   "source": [
    "a. (2 pts) Print the shape (number of rows and columns) of the feature matrix X, and print the first 5 rows."
   ]
  },
  {
   "cell_type": "code",
   "execution_count": 2,
   "metadata": {},
   "outputs": [
    {
     "data": {
      "text/plain": [
       "(188318, 14)"
      ]
     },
     "execution_count": 2,
     "metadata": {},
     "output_type": "execute_result"
    }
   ],
   "source": [
    "# print the shape of the feature matrix X\n",
    "X.shape"
   ]
  },
  {
   "cell_type": "code",
   "execution_count": 3,
   "metadata": {},
   "outputs": [
    {
     "data": {
      "text/html": [
       "<div>\n",
       "<style scoped>\n",
       "    .dataframe tbody tr th:only-of-type {\n",
       "        vertical-align: middle;\n",
       "    }\n",
       "\n",
       "    .dataframe tbody tr th {\n",
       "        vertical-align: top;\n",
       "    }\n",
       "\n",
       "    .dataframe thead th {\n",
       "        text-align: right;\n",
       "    }\n",
       "</style>\n",
       "<table border=\"1\" class=\"dataframe\">\n",
       "  <thead>\n",
       "    <tr style=\"text-align: right;\">\n",
       "      <th></th>\n",
       "      <th>cont1</th>\n",
       "      <th>cont2</th>\n",
       "      <th>cont3</th>\n",
       "      <th>cont4</th>\n",
       "      <th>cont5</th>\n",
       "      <th>cont6</th>\n",
       "      <th>cont7</th>\n",
       "      <th>cont8</th>\n",
       "      <th>cont9</th>\n",
       "      <th>cont10</th>\n",
       "      <th>cont11</th>\n",
       "      <th>cont12</th>\n",
       "      <th>cont13</th>\n",
       "      <th>cont14</th>\n",
       "    </tr>\n",
       "  </thead>\n",
       "  <tbody>\n",
       "    <tr>\n",
       "      <th>0</th>\n",
       "      <td>0.726300</td>\n",
       "      <td>0.245921</td>\n",
       "      <td>0.187583</td>\n",
       "      <td>0.789639</td>\n",
       "      <td>0.310061</td>\n",
       "      <td>0.718367</td>\n",
       "      <td>0.335060</td>\n",
       "      <td>0.30260</td>\n",
       "      <td>0.67135</td>\n",
       "      <td>0.83510</td>\n",
       "      <td>0.569745</td>\n",
       "      <td>0.594646</td>\n",
       "      <td>0.822493</td>\n",
       "      <td>0.714843</td>\n",
       "    </tr>\n",
       "    <tr>\n",
       "      <th>1</th>\n",
       "      <td>0.330514</td>\n",
       "      <td>0.737068</td>\n",
       "      <td>0.592681</td>\n",
       "      <td>0.614134</td>\n",
       "      <td>0.885834</td>\n",
       "      <td>0.438917</td>\n",
       "      <td>0.436585</td>\n",
       "      <td>0.60087</td>\n",
       "      <td>0.35127</td>\n",
       "      <td>0.43919</td>\n",
       "      <td>0.338312</td>\n",
       "      <td>0.366307</td>\n",
       "      <td>0.611431</td>\n",
       "      <td>0.304496</td>\n",
       "    </tr>\n",
       "    <tr>\n",
       "      <th>2</th>\n",
       "      <td>0.261841</td>\n",
       "      <td>0.358319</td>\n",
       "      <td>0.484196</td>\n",
       "      <td>0.236924</td>\n",
       "      <td>0.397069</td>\n",
       "      <td>0.289648</td>\n",
       "      <td>0.315545</td>\n",
       "      <td>0.27320</td>\n",
       "      <td>0.26076</td>\n",
       "      <td>0.32446</td>\n",
       "      <td>0.381398</td>\n",
       "      <td>0.373424</td>\n",
       "      <td>0.195709</td>\n",
       "      <td>0.774425</td>\n",
       "    </tr>\n",
       "    <tr>\n",
       "      <th>3</th>\n",
       "      <td>0.321594</td>\n",
       "      <td>0.555782</td>\n",
       "      <td>0.527991</td>\n",
       "      <td>0.373816</td>\n",
       "      <td>0.422268</td>\n",
       "      <td>0.440945</td>\n",
       "      <td>0.391128</td>\n",
       "      <td>0.31796</td>\n",
       "      <td>0.32128</td>\n",
       "      <td>0.44467</td>\n",
       "      <td>0.327915</td>\n",
       "      <td>0.321570</td>\n",
       "      <td>0.605077</td>\n",
       "      <td>0.602642</td>\n",
       "    </tr>\n",
       "    <tr>\n",
       "      <th>4</th>\n",
       "      <td>0.273204</td>\n",
       "      <td>0.159990</td>\n",
       "      <td>0.527991</td>\n",
       "      <td>0.473202</td>\n",
       "      <td>0.704268</td>\n",
       "      <td>0.178193</td>\n",
       "      <td>0.247408</td>\n",
       "      <td>0.24564</td>\n",
       "      <td>0.22089</td>\n",
       "      <td>0.21230</td>\n",
       "      <td>0.204687</td>\n",
       "      <td>0.202213</td>\n",
       "      <td>0.246011</td>\n",
       "      <td>0.432606</td>\n",
       "    </tr>\n",
       "  </tbody>\n",
       "</table>\n",
       "</div>"
      ],
      "text/plain": [
       "      cont1     cont2     cont3     cont4     cont5     cont6     cont7  \\\n",
       "0  0.726300  0.245921  0.187583  0.789639  0.310061  0.718367  0.335060   \n",
       "1  0.330514  0.737068  0.592681  0.614134  0.885834  0.438917  0.436585   \n",
       "2  0.261841  0.358319  0.484196  0.236924  0.397069  0.289648  0.315545   \n",
       "3  0.321594  0.555782  0.527991  0.373816  0.422268  0.440945  0.391128   \n",
       "4  0.273204  0.159990  0.527991  0.473202  0.704268  0.178193  0.247408   \n",
       "\n",
       "     cont8    cont9   cont10    cont11    cont12    cont13    cont14  \n",
       "0  0.30260  0.67135  0.83510  0.569745  0.594646  0.822493  0.714843  \n",
       "1  0.60087  0.35127  0.43919  0.338312  0.366307  0.611431  0.304496  \n",
       "2  0.27320  0.26076  0.32446  0.381398  0.373424  0.195709  0.774425  \n",
       "3  0.31796  0.32128  0.44467  0.327915  0.321570  0.605077  0.602642  \n",
       "4  0.24564  0.22089  0.21230  0.204687  0.202213  0.246011  0.432606  "
      ]
     },
     "execution_count": 3,
     "metadata": {},
     "output_type": "execute_result"
    }
   ],
   "source": [
    "# print the first five rows\n",
    "X[:5]"
   ]
  },
  {
   "cell_type": "markdown",
   "metadata": {},
   "source": [
    "b.  (6 pts) Using ordinary least squares, fit a multiple linear regression (MLR) on all the feature variables using the entire dataset. Report the regression coefficient of each input feature and evaluate the model using mean absolute error (MAE).  Example of ordinary least squares in Python is shown in Section 1.1.1 of http://scikit-learn.org/stable/modules/linear_model.html."
   ]
  },
  {
   "cell_type": "code",
   "execution_count": 4,
   "metadata": {},
   "outputs": [
    {
     "name": "stdout",
     "output_type": "stream",
     "text": [
      "Coefficients: \n",
      " [-2137.11121171  1762.2406163    -56.57968487  -301.1729806\n",
      "    30.03201819  -557.22509919  1707.95520608   298.61240614\n",
      "  2049.37910438  -250.01986129 -1732.34887444  2724.38985824\n",
      "  -631.30128902   273.62600504]\n",
      "Mean absolute error: 1950.36\n"
     ]
    }
   ],
   "source": [
    "import matplotlib.pyplot as plt\n",
    "import numpy as np\n",
    "from sklearn import datasets, linear_model\n",
    "from sklearn.metrics import mean_absolute_error, r2_score\n",
    "\n",
    "# set up the linear regression model\n",
    "regr = linear_model.LinearRegression()\n",
    "\n",
    "# Train the model \n",
    "regr.fit(X, Y)\n",
    "\n",
    "# get the predictions\n",
    "Ypred = regr.predict(X)\n",
    "\n",
    "# print the coefficients\n",
    "print ('Coefficients: \\n', regr.coef_)\n",
    "\n",
    "# print the mean squared error\n",
    "print (\"Mean absolute error: %.2f\" % mean_absolute_error(Y, Ypred))"
   ]
  },
  {
   "cell_type": "markdown",
   "metadata": {},
   "source": [
    "c.  (6 pts) Split the data into a training set and a test set, using the train_test_split with test_size = 0.30 and random_state = 50. The code for this is given below. Fit an MLR using the training set.  Evaluate the trained model using the training set and the test set, respectively.  Compare the two MAE values thus obtained."
   ]
  },
  {
   "cell_type": "code",
   "execution_count": 5,
   "metadata": {},
   "outputs": [],
   "source": [
    "from sklearn.model_selection import train_test_split\n",
    "\n",
    "X_train, X_test, Y_train, Y_test = train_test_split(X,Y,test_size = 0.30, random_state=50)"
   ]
  },
  {
   "cell_type": "code",
   "execution_count": 6,
   "metadata": {},
   "outputs": [
    {
     "name": "stdout",
     "output_type": "stream",
     "text": [
      "Mean absolute error (train): 1946.99\n",
      "Mean absolute error (test): 1954.11\n"
     ]
    }
   ],
   "source": [
    "import matplotlib.pyplot as plt\n",
    "import numpy as np\n",
    "from sklearn import datasets, linear_model\n",
    "from sklearn.metrics import mean_absolute_error\n",
    "\n",
    "# set up the regression\n",
    "regr = linear_model.LinearRegression()\n",
    "\n",
    "# Train the model using the training sets\n",
    "model2 = regr.fit(X_train, Y_train)\n",
    "\n",
    "# get the training and test predictions\n",
    "Ypred2 = model2.predict(X_train)\n",
    "Ypred3 = model2.predict(X_test)\n",
    "\n",
    "# print the MAE for training and test\n",
    "print (\"Mean absolute error (train): %.2f\" % mean_absolute_error(Y_train, Ypred2))\n",
    "print (\"Mean absolute error (test): %.2f\" % mean_absolute_error(Y_test, Ypred3))"
   ]
  },
  {
   "cell_type": "markdown",
   "metadata": {},
   "source": [
    "The MAE for the test data is higher than the MAE for the training data, and this is a good sign because it means we did not overfit the data, however it's still pretty close to the MAE from training data so we know the model is good."
   ]
  },
  {
   "cell_type": "markdown",
   "metadata": {},
   "source": [
    "d.  (6 pts) Plot the histogram of Y_train and see its distribution. Now take log of Y_train and plot its histogram. Now run regression again after taking log and compare the MAE. You need to do np.exp(predictions) to bring them back to original scale, and then calculate MAE. Explain the results."
   ]
  },
  {
   "cell_type": "code",
   "execution_count": 7,
   "metadata": {},
   "outputs": [
    {
     "data": {
      "text/plain": [
       "(0, 25000)"
      ]
     },
     "execution_count": 7,
     "metadata": {},
     "output_type": "execute_result"
    },
    {
     "data": {
      "image/png": "[encoded data removed]",
      "text/plain": [
       "<Figure size 864x432 with 1 Axes>"
      ]
     },
     "metadata": {},
     "output_type": "display_data"
    }
   ],
   "source": [
    "# plot the histogram of Y_train\n",
    "plt.figure(figsize=(12,6))\n",
    "plt.hist(Y_train, bins=50)\n",
    "plt.xlim(xmin=0, xmax=25000)"
   ]
  },
  {
   "cell_type": "code",
   "execution_count": 8,
   "metadata": {},
   "outputs": [
    {
     "data": {
      "text/plain": [
       "(2, 12)"
      ]
     },
     "execution_count": 8,
     "metadata": {},
     "output_type": "execute_result"
    },
    {
     "data": {
      "image/png": "[encoded data removed]",
      "text/plain": [
       "<Figure size 864x432 with 1 Axes>"
      ]
     },
     "metadata": {},
     "output_type": "display_data"
    }
   ],
   "source": [
    "# take log of Y and plot histogram\n",
    "plt.figure(figsize=(12,6))\n",
    "logY = np.log(Y_train)\n",
    "plt.hist(logY, bins=50)\n",
    "plt.xlim(xmin=2, xmax=12)"
   ]
  },
  {
   "cell_type": "code",
   "execution_count": 9,
   "metadata": {},
   "outputs": [
    {
     "name": "stdout",
     "output_type": "stream",
     "text": [
      "Mean absolute error (train): 1797.44\n",
      "Mean absolute error (test): 1810.65\n"
     ]
    }
   ],
   "source": [
    "# take log and fit model to training\n",
    "logYtest = np.log(Y_test)\n",
    "model3 = regr.fit(X_train, logY)\n",
    "\n",
    "# get predictions of training and test\n",
    "logYpred = model3.predict(X_train)\n",
    "logYpred2 = model3.predict(X_test)\n",
    "\n",
    "# print the MAE for training and test, bringing back to original scale\n",
    "print (\"Mean absolute error (train): %.2f\" % mean_absolute_error(Y_train, np.exp(logYpred)))\n",
    "print (\"Mean absolute error (test): %.2f\" % mean_absolute_error(Y_test, np.exp(logYpred2)))"
   ]
  },
  {
   "cell_type": "markdown",
   "metadata": {},
   "source": [
    "These are lower than what we got for the normal training data, so taking the log improved the MAE in the end\n"
   ]
  },
  {
   "cell_type": "markdown",
   "metadata": {},
   "source": [
    "# Question 5: Ridge and Lasso Regression (25 points)\n"
   ]
  },
  {
   "cell_type": "markdown",
   "metadata": {},
   "source": [
    "Using the same data from before, in this question you will explore the application of Lasso and Ridge regression using sklearn package in Python. Split the data into a training set and a test set, using the train_test_split with test_size = 0.30 and random_state = 50. Take log of the Y_train and use it for training."
   ]
  },
  {
   "cell_type": "code",
   "execution_count": 10,
   "metadata": {},
   "outputs": [],
   "source": [
    "from sklearn.model_selection import train_test_split\n",
    "\n",
    "X_train, X_test, Y_train, Y_test = train_test_split(X, Y, test_size=0.3, random_state=50)\n",
    "\n",
    "# get the log of Y_train to use for training\n",
    "logY = np.log(Y_train)"
   ]
  },
  {
   "cell_type": "markdown",
   "metadata": {},
   "source": [
    "1) Use sklearn.linear_model.Lasso and sklearn.linear_model.Ridge classes to do a [5-fold cross validation](http://scikit-learn.org/stable/auto_examples/exercises/plot_cv_diabetes.html#example-exercises-plot-cv-diabetes-py) using sklearn's [KFold](http://scikit-learn.org/stable/modules/generated/sklearn.cross_validation.KFold.html). For the sweep of the regularization parameter, we will look at a grid of values ranging from $\\lambda = 10^{10}$ to $\\lambda = 10^{-6}$. In Python, you can consider this range of values as follows:\n",
    "\n",
    "      import numpy as np\n",
    "\n",
    "      alphas =  10**np.linspace(10,-6,100)*0.5\n",
    "\n",
    "  Report the best chosen $\\lambda$ based on cross validation. The cross validation should happen on your training data using  average MAE as the scoring metric. (8pts)"
   ]
  },
  {
   "cell_type": "code",
   "execution_count": 11,
   "metadata": {},
   "outputs": [
    {
     "name": "stderr",
     "output_type": "stream",
     "text": [
      "C:\\Users\\evand\\AppData\\Local\\conda\\conda\\envs\\py36\\lib\\site-packages\\sklearn\\linear_model\\coordinate_descent.py:491: ConvergenceWarning: Objective did not converge. You might want to increase the number of iterations. Fitting data with very small alpha may cause precision problems.\n",
      "  ConvergenceWarning)\n",
      "C:\\Users\\evand\\AppData\\Local\\conda\\conda\\envs\\py36\\lib\\site-packages\\sklearn\\linear_model\\coordinate_descent.py:491: ConvergenceWarning: Objective did not converge. You might want to increase the number of iterations. Fitting data with very small alpha may cause precision problems.\n",
      "  ConvergenceWarning)\n",
      "C:\\Users\\evand\\AppData\\Local\\conda\\conda\\envs\\py36\\lib\\site-packages\\sklearn\\linear_model\\coordinate_descent.py:491: ConvergenceWarning: Objective did not converge. You might want to increase the number of iterations. Fitting data with very small alpha may cause precision problems.\n",
      "  ConvergenceWarning)\n",
      "C:\\Users\\evand\\AppData\\Local\\conda\\conda\\envs\\py36\\lib\\site-packages\\sklearn\\linear_model\\coordinate_descent.py:491: ConvergenceWarning: Objective did not converge. You might want to increase the number of iterations. Fitting data with very small alpha may cause precision problems.\n",
      "  ConvergenceWarning)\n",
      "C:\\Users\\evand\\AppData\\Local\\conda\\conda\\envs\\py36\\lib\\site-packages\\sklearn\\linear_model\\coordinate_descent.py:491: ConvergenceWarning: Objective did not converge. You might want to increase the number of iterations. Fitting data with very small alpha may cause precision problems.\n",
      "  ConvergenceWarning)\n"
     ]
    }
   ],
   "source": [
    "from sklearn.linear_model import Lasso\n",
    "from sklearn.linear_model import Ridge\n",
    "from sklearn import metrics\n",
    "from sklearn import linear_model\n",
    "from sklearn.metrics import make_scorer\n",
    "from sklearn.model_selection import KFold\n",
    "from sklearn.linear_model import LassoCV\n",
    "from sklearn.model_selection import GridSearchCV\n",
    "import numpy as np\n",
    "import matplotlib.pyplot as plt\n",
    "\n",
    "# set the parameters for the cross validation\n",
    "alphas =  10**np.linspace(10,-6,100)*0.5\n",
    "k_fold = KFold(5)\n",
    "tuned_parameters = [{'alpha': alphas}]\n",
    "\n",
    "# use MAE as the scoring metric\n",
    "scoring = make_scorer(mean_absolute_error)\n",
    "\n",
    "# run the lasso cross validation\n",
    "lasso1 = linear_model.Lasso(random_state=50)\n",
    "clf1 = GridSearchCV(lasso1, tuned_parameters, cv=k_fold, refit=False, scoring=scoring)\n",
    "lasso_model = clf1.fit(X_train, logY)\n",
    "\n",
    "scores_lasso = clf1.cv_results_['mean_test_score']"
   ]
  },
  {
   "cell_type": "code",
   "execution_count": 12,
   "metadata": {},
   "outputs": [
    {
     "name": "stdout",
     "output_type": "stream",
     "text": [
      "Best lambda (lasso): \n"
     ]
    },
    {
     "data": {
      "text/plain": [
       "6.309284415330092e-05"
      ]
     },
     "execution_count": 12,
     "metadata": {},
     "output_type": "execute_result"
    }
   ],
   "source": [
    "# get the best lambda value from cross validation for lasso\n",
    "scores_lasso = pd.Series(scores_lasso)\n",
    "best_lambda_lasso = alphas[scores_lasso[scores_lasso==min(scores_lasso)].index[0]]\n",
    "print (\"Best lambda (lasso): \")\n",
    "best_lambda_lasso"
   ]
  },
  {
   "cell_type": "code",
   "execution_count": 13,
   "metadata": {},
   "outputs": [],
   "source": [
    "# run the ridge cross validation\n",
    "ridge1 = linear_model.Ridge(random_state=50)\n",
    "clf2 = GridSearchCV(ridge1, tuned_parameters, cv=k_fold, refit=False, scoring=scoring)\n",
    "ridge_model = clf2.fit(X_train, logY)\n",
    "scores_ridge = clf2.cv_results_['mean_test_score']"
   ]
  },
  {
   "cell_type": "code",
   "execution_count": 14,
   "metadata": {},
   "outputs": [
    {
     "name": "stdout",
     "output_type": "stream",
     "text": [
      "Best lambda (ridge): \n"
     ]
    },
    {
     "data": {
      "text/plain": [
       "13.5929412136647"
      ]
     },
     "execution_count": 14,
     "metadata": {},
     "output_type": "execute_result"
    }
   ],
   "source": [
    "# get the best lambda value for ridge\n",
    "scores_ridge = pd.Series(scores_ridge)\n",
    "best_lambda_ridge = alphas[scores_ridge[scores_ridge==min(scores_ridge)].index[0]]\n",
    "print (\"Best lambda (ridge): \")\n",
    "best_lambda_ridge"
   ]
  },
  {
   "cell_type": "markdown",
   "metadata": {},
   "source": [
    "2) Run ridge and lasso for all of the alphas specified above (on training data), and plot the coefficients learned for each of them - there should be one plot each for lasso and ridge, so a total of two plots; the plots for different features for a method should be on the same plot. What do you qualitatively observe when value of the regularization parameter is changed? (7pts)"
   ]
  },
  {
   "cell_type": "code",
   "execution_count": 15,
   "metadata": {},
   "outputs": [
    {
     "name": "stderr",
     "output_type": "stream",
     "text": [
      "C:\\Users\\evand\\AppData\\Local\\conda\\conda\\envs\\py36\\lib\\site-packages\\sklearn\\linear_model\\coordinate_descent.py:491: ConvergenceWarning: Objective did not converge. You might want to increase the number of iterations. Fitting data with very small alpha may cause precision problems.\n",
      "  ConvergenceWarning)\n"
     ]
    },
    {
     "data": {
      "image/png": "[encoded data removed]",
      "text/plain": [
       "<Figure size 432x288 with 1 Axes>"
      ]
     },
     "metadata": {},
     "output_type": "display_data"
    }
   ],
   "source": [
    "# get the coefficients for all alphas for lasso\n",
    "coefs = []\n",
    "for a in alphas:\n",
    "    lasso = linear_model.Lasso(alpha=a, fit_intercept=False)\n",
    "    lasso.fit(X_train, logY)\n",
    "    coefs.append(lasso.coef_)\n",
    "    \n",
    "ax = plt.gca()\n",
    "\n",
    "# plot this\n",
    "ax.plot(alphas, coefs)\n",
    "ax.set_xscale('log')\n",
    "ax.set_xlim(ax.get_xlim()[::-1])  # reverse axis\n",
    "plt.xlabel('alpha')\n",
    "plt.ylabel('weights')\n",
    "plt.title('Lasso coefficients as a function of the regularization')\n",
    "plt.axis('tight')\n",
    "plt.show()"
   ]
  },
  {
   "cell_type": "markdown",
   "metadata": {},
   "source": [
    "We observe for Lasso that for high values of the regularization coefficient, all coeffecients are zero. As the regularization decreases, coeffecients start deviating from zero but a few still remain zero and thus their respective independent variables can be eliminated."
   ]
  },
  {
   "cell_type": "code",
   "execution_count": 16,
   "metadata": {},
   "outputs": [
    {
     "data": {
      "image/png": "[encoded data removed]",
      "text/plain": [
       "<Figure size 432x288 with 1 Axes>"
      ]
     },
     "metadata": {},
     "output_type": "display_data"
    }
   ],
   "source": [
    "# get the coefficients for all alphas for ridge\n",
    "coefs = []\n",
    "for a in alphas:\n",
    "    ridge = linear_model.Ridge(alpha=a, fit_intercept=False)\n",
    "    ridge.fit(X_train, logY)\n",
    "    coefs.append(ridge.coef_)\n",
    "    \n",
    "ax = plt.gca()\n",
    "\n",
    "# plot this\n",
    "ax.plot(alphas, coefs)\n",
    "ax.set_xscale('log')\n",
    "ax.set_xlim(ax.get_xlim()[::-1])  # reverse axis\n",
    "plt.xlabel('alpha')\n",
    "plt.ylabel('weights')\n",
    "plt.title('Ridge coefficients as a function of the regularization')\n",
    "plt.axis('tight')\n",
    "plt.show()"
   ]
  },
  {
   "cell_type": "markdown",
   "metadata": {},
   "source": [
    "We observe for Ridge, the coeffecients start out very close to zero at high regularization but all become non-zero as regularization decreases (that is, putting less regularization penalty)."
   ]
  },
  {
   "cell_type": "markdown",
   "metadata": {},
   "source": [
    "3) Run least squares regression, ridge, and lasso on the training data. For ridge and lasso, use only the best regularization parameter. Report the prediction error (MAE) on the test data for each. (5pts)"
   ]
  },
  {
   "cell_type": "code",
   "execution_count": 17,
   "metadata": {},
   "outputs": [
    {
     "name": "stdout",
     "output_type": "stream",
     "text": [
      "Mean absolute error (ols): 1810.65\n",
      "Mean absolute error (lasso): 1810.64\n",
      "Mean absolute error (ridge): 1810.63\n"
     ]
    }
   ],
   "source": [
    "# set up least squares model\n",
    "ols = linear_model.LinearRegression()\n",
    "olsmodel = ols.fit(X_train, logY)\n",
    "\n",
    "# get predictions on test data\n",
    "olspred = olsmodel.predict(X_test)\n",
    "\n",
    "# set up lasso model using best regularization parameter\n",
    "lasso = Lasso(alpha=best_lambda_lasso, random_state=50)\n",
    "lassofit = lasso.fit(X_train, logY)\n",
    "\n",
    "# get predictions on test data\n",
    "lassopred = lassofit.predict(X_test)\n",
    "\n",
    "# set up ridge model using best regularization parameter\n",
    "ridge = Ridge(alpha=best_lambda_ridge, random_state=50)\n",
    "ridgefit = ridge.fit(X_train, logY)\n",
    "\n",
    "# get predictions on test data\n",
    "ridgepred = ridgefit.predict(X_test)\n",
    "\n",
    "print (\"Mean absolute error (ols): %.2f\" % mean_absolute_error(Y_test, np.exp(olspred)))\n",
    "print (\"Mean absolute error (lasso): %.2f\" % mean_absolute_error(Y_test, np.exp(lassopred)))\n",
    "print (\"Mean absolute error (ridge): %.2f\" % mean_absolute_error(Y_test, np.exp(ridgepred)))"
   ]
  },
  {
   "cell_type": "markdown",
   "metadata": {},
   "source": [
    "4) Run lasso again with cross validation using [sklearn.linear_model.LassoCV](http://scikit-learn.org/stable/modules/generated/sklearn.linear_model.LassoCV.html). Set the cross validation parameters as follows:\n",
    "\n",
    "    LassoCV(alphas=None, cv=10, max_iter=10000)\n",
    "\n",
    "Report the best $\\lambda$ based on cross validation. Run lasso on the training data using the best $\\lambda$ and report the coefficeints for all variables. (5pts)"
   ]
  },
  {
   "cell_type": "code",
   "execution_count": 18,
   "metadata": {},
   "outputs": [
    {
     "name": "stdout",
     "output_type": "stream",
     "text": [
      "Best lambda: \n"
     ]
    },
    {
     "data": {
      "text/plain": [
       "1.742378003185893e-05"
      ]
     },
     "execution_count": 18,
     "metadata": {},
     "output_type": "execute_result"
    }
   ],
   "source": [
    "from sklearn.linear_model import LassoCV\n",
    "\n",
    "# run lasso cross validation with specified parameters\n",
    "lassocv = LassoCV(random_state=50, alphas=None, cv=10, max_iter=10000)\n",
    "lassocv_model = lassocv.fit(X_train, logY)\n",
    "\n",
    "# get the best lambda/alpha\n",
    "bestalpha = lassocv_model.alpha_\n",
    "\n",
    "print (\"Best lambda: \")\n",
    "bestalpha"
   ]
  },
  {
   "cell_type": "code",
   "execution_count": 19,
   "metadata": {},
   "outputs": [
    {
     "name": "stdout",
     "output_type": "stream",
     "text": [
      "Coefficients: \n"
     ]
    },
    {
     "data": {
      "text/plain": [
       "array([-0.51711206,  0.35693216,  0.01261526, -0.08068485, -0.00950437,\n",
       "       -0.06881325,  0.30609698,  0.08840324,  0.57216477, -0.16869083,\n",
       "       -0.35348216,  0.55420528, -0.09951851,  0.09436384])"
      ]
     },
     "execution_count": 19,
     "metadata": {},
     "output_type": "execute_result"
    }
   ],
   "source": [
    "# run lasso again using best lambda/alpha\n",
    "best_lasso = Lasso(alpha=bestalpha, random_state=50)\n",
    "best_lasso_model = best_lasso.fit(X_train, logY)\n",
    "\n",
    "# get the coefficients for all variables\n",
    "print(\"Coefficients: \")\n",
    "best_lasso_model.coef_"
   ]
  },
  {
   "cell_type": "markdown",
   "metadata": {},
   "source": [
    "# Question 6 (10pts)\n",
    "\n",
    "Please solve problem \\#3.3 on page 174 in Bishop (Chapter 3). The problem has been uploaded to Canvas under 'Files': **CH3 problems from Bishop PRML.pdf**.\n",
    "\n",
    "We will show the solution of the error function using matrix notation.\n",
    "\n",
    "\\begin{align}\n",
    "E_D(\\mathbf{w})=\\frac{1}{2}\\sum_{n=1}^Nr_n(t_n-\\mathbf{w}^T\\boldsymbol{\\phi}(\\mathbf{x}_n))^2 \\\\\n",
    "=\\frac{1}{2}(\\boldsymbol{\\Phi}\\mathbf{w}-\\mathbf{t})^T\\mathbf{R}(\\boldsymbol{\\Phi}\\mathbf{w}-\\mathbf{t}) \\\\\n",
    "=\\frac{1}{2}(\\mathbf{w}^T\\boldsymbol{\\Phi}^T\\mathbf{R}\\boldsymbol{\\Phi}\\mathbf{w}-\\mathbf{w}^T\\boldsymbol{\\Phi}^T\\mathbf{R}\\mathbf{t}-\\mathbf{t}^T\\mathbf{R}\\boldsymbol{\\Phi}\\mathbf{w}+\\mathbf{t}^T\\mathbf{R}\\mathbf{t}) \\\\\n",
    "=\\frac{1}{2}(\\mathbf{w}^T\\boldsymbol{\\Phi}^T\\mathbf{R}\\boldsymbol{\\Phi}\\mathbf{w}-2\\mathbf{t}^T\\mathbf{R}\\boldsymbol{\\Phi}\\mathbf{w}+\\mathbf{t}^T\\mathbf{R}\\mathbf{t})\n",
    "\\end{align}\n",
    "Since $\\mathbf{R}=diag(r_1,...,r_n)$\n",
    "\n",
    "Taking the gradient of the error function:\n",
    "\n",
    "\\begin{align}\n",
    "\\nabla E_D(\\mathbf{w}) = \\boldsymbol{\\Phi}^T\\mathbf{R}\\boldsymbol{\\Phi}\\mathbf{w}-\\mathbf{t}^T\\mathbf{R}\\boldsymbol{\\Phi} \\\\\n",
    "\\mathbf{w}^* = (\\boldsymbol{\\Phi}^T\\mathbf{R}\\boldsymbol{\\Phi})^{-1}\\mathbf{t}^T\\mathbf{R}\\boldsymbol{\\Phi} \\\\\n",
    "= (\\boldsymbol{\\Phi}^T\\mathbf{R}\\boldsymbol{\\Phi})^{-1}\\boldsymbol{\\Phi}^T\\mathbf{R}\\mathbf{t}\n",
    "\\end{align}"
   ]
  },
  {
   "cell_type": "markdown",
   "metadata": {},
   "source": [
    "$r_n$ can be thought of as a variance parameter dependent on the data point $(x_n, t_n)$ that either replaces or scales $\\beta$. Alternatively, $r_n$ can be thought of as an effective number of replicated observations of the data point $(x_n, t_n)$, especially considering $r_n$ taking positive integer values, but it is valid for any $r_n>0$."
   ]
  }
 ],
 "metadata": {
  "anaconda-cloud": {},
  "kernelspec": {
   "display_name": "Python 3",
   "language": "python",
   "name": "python3"
  },
  "language_info": {
   "codemirror_mode": {
    "name": "ipython",
    "version": 3
   },
   "file_extension": ".py",
   "mimetype": "text/x-python",
   "name": "python",
   "nbconvert_exporter": "python",
   "pygments_lexer": "ipython3",
   "version": "3.6.5"
  }
 },
 "nbformat": 4,
 "nbformat_minor": 1
}
